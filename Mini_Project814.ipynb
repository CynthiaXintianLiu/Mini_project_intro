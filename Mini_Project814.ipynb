{
 "cells": [
  {
   "cell_type": "markdown",
   "metadata": {},
   "source": [
    "# Group Project\n",
    "\n",
    "*By Cecilia Liu, Alicia Cheng, and Eric Skrabak*\n",
    "\n",
    "## Group Contributions Statement\n",
    "\n",
    "Alicia and Eric worked on explanatory analysis and the discussion, respectively. Cecilia led the creation of modeling. All three students contributed to the project as a whole. "
   ]
  },
  {
   "cell_type": "markdown",
   "metadata": {},
   "source": [
    "# Data Acquisition\n",
    "\n",
    "In this section, we import the required modules, and acquire and read the data into Python."
   ]
  },
  {
   "cell_type": "code",
   "execution_count": 18,
   "metadata": {},
   "outputs": [],
   "source": [
    "# Module imports\n",
    "import pandas as pd\n",
    "import numpy as np\n",
    "import seaborn as sns \n",
    "import sklearn\n",
    "from itertools import combinations \n",
    "import matplotlib.pyplot as plt\n",
    "from sklearn.model_selection import train_test_split \n",
    "from sklearn.preprocessing import StandardScaler \n",
    "from sklearn import preprocessing \n",
    "from sklearn.linear_model import LogisticRegression \n",
    "from sklearn.tree import DecisionTreeClassifier \n",
    "from sklearn import svm\n",
    "from sklearn.model_selection import cross_val_score \n",
    "from sklearn.metrics import classification_report,confusion_matrix,roc_auc_score,accuracy_score,recall_score,precision_score"
   ]
  },
  {
   "cell_type": "code",
   "execution_count": 19,
   "metadata": {},
   "outputs": [
    {
     "data": {
      "text/html": [
       "<div>\n",
       "<style scoped>\n",
       "    .dataframe tbody tr th:only-of-type {\n",
       "        vertical-align: middle;\n",
       "    }\n",
       "\n",
       "    .dataframe tbody tr th {\n",
       "        vertical-align: top;\n",
       "    }\n",
       "\n",
       "    .dataframe thead th {\n",
       "        text-align: right;\n",
       "    }\n",
       "</style>\n",
       "<table border=\"1\" class=\"dataframe\">\n",
       "  <thead>\n",
       "    <tr style=\"text-align: right;\">\n",
       "      <th></th>\n",
       "      <th>studyName</th>\n",
       "      <th>Sample Number</th>\n",
       "      <th>Species</th>\n",
       "      <th>Region</th>\n",
       "      <th>Island</th>\n",
       "      <th>Stage</th>\n",
       "      <th>Individual ID</th>\n",
       "      <th>Clutch Completion</th>\n",
       "      <th>Date Egg</th>\n",
       "      <th>Culmen Length (mm)</th>\n",
       "      <th>Culmen Depth (mm)</th>\n",
       "      <th>Flipper Length (mm)</th>\n",
       "      <th>Body Mass (g)</th>\n",
       "      <th>Sex</th>\n",
       "      <th>Delta 15 N (o/oo)</th>\n",
       "      <th>Delta 13 C (o/oo)</th>\n",
       "      <th>Comments</th>\n",
       "    </tr>\n",
       "  </thead>\n",
       "  <tbody>\n",
       "    <tr>\n",
       "      <th>0</th>\n",
       "      <td>PAL0708</td>\n",
       "      <td>1</td>\n",
       "      <td>Adelie Penguin (Pygoscelis adeliae)</td>\n",
       "      <td>Anvers</td>\n",
       "      <td>Torgersen</td>\n",
       "      <td>Adult, 1 Egg Stage</td>\n",
       "      <td>N1A1</td>\n",
       "      <td>Yes</td>\n",
       "      <td>11/11/07</td>\n",
       "      <td>39.1</td>\n",
       "      <td>18.7</td>\n",
       "      <td>181.0</td>\n",
       "      <td>3750.0</td>\n",
       "      <td>MALE</td>\n",
       "      <td>NaN</td>\n",
       "      <td>NaN</td>\n",
       "      <td>Not enough blood for isotopes.</td>\n",
       "    </tr>\n",
       "    <tr>\n",
       "      <th>1</th>\n",
       "      <td>PAL0708</td>\n",
       "      <td>2</td>\n",
       "      <td>Adelie Penguin (Pygoscelis adeliae)</td>\n",
       "      <td>Anvers</td>\n",
       "      <td>Torgersen</td>\n",
       "      <td>Adult, 1 Egg Stage</td>\n",
       "      <td>N1A2</td>\n",
       "      <td>Yes</td>\n",
       "      <td>11/11/07</td>\n",
       "      <td>39.5</td>\n",
       "      <td>17.4</td>\n",
       "      <td>186.0</td>\n",
       "      <td>3800.0</td>\n",
       "      <td>FEMALE</td>\n",
       "      <td>8.94956</td>\n",
       "      <td>-24.69454</td>\n",
       "      <td>NaN</td>\n",
       "    </tr>\n",
       "    <tr>\n",
       "      <th>2</th>\n",
       "      <td>PAL0708</td>\n",
       "      <td>3</td>\n",
       "      <td>Adelie Penguin (Pygoscelis adeliae)</td>\n",
       "      <td>Anvers</td>\n",
       "      <td>Torgersen</td>\n",
       "      <td>Adult, 1 Egg Stage</td>\n",
       "      <td>N2A1</td>\n",
       "      <td>Yes</td>\n",
       "      <td>11/16/07</td>\n",
       "      <td>40.3</td>\n",
       "      <td>18.0</td>\n",
       "      <td>195.0</td>\n",
       "      <td>3250.0</td>\n",
       "      <td>FEMALE</td>\n",
       "      <td>8.36821</td>\n",
       "      <td>-25.33302</td>\n",
       "      <td>NaN</td>\n",
       "    </tr>\n",
       "    <tr>\n",
       "      <th>3</th>\n",
       "      <td>PAL0708</td>\n",
       "      <td>4</td>\n",
       "      <td>Adelie Penguin (Pygoscelis adeliae)</td>\n",
       "      <td>Anvers</td>\n",
       "      <td>Torgersen</td>\n",
       "      <td>Adult, 1 Egg Stage</td>\n",
       "      <td>N2A2</td>\n",
       "      <td>Yes</td>\n",
       "      <td>11/16/07</td>\n",
       "      <td>NaN</td>\n",
       "      <td>NaN</td>\n",
       "      <td>NaN</td>\n",
       "      <td>NaN</td>\n",
       "      <td>NaN</td>\n",
       "      <td>NaN</td>\n",
       "      <td>NaN</td>\n",
       "      <td>Adult not sampled.</td>\n",
       "    </tr>\n",
       "    <tr>\n",
       "      <th>4</th>\n",
       "      <td>PAL0708</td>\n",
       "      <td>5</td>\n",
       "      <td>Adelie Penguin (Pygoscelis adeliae)</td>\n",
       "      <td>Anvers</td>\n",
       "      <td>Torgersen</td>\n",
       "      <td>Adult, 1 Egg Stage</td>\n",
       "      <td>N3A1</td>\n",
       "      <td>Yes</td>\n",
       "      <td>11/16/07</td>\n",
       "      <td>36.7</td>\n",
       "      <td>19.3</td>\n",
       "      <td>193.0</td>\n",
       "      <td>3450.0</td>\n",
       "      <td>FEMALE</td>\n",
       "      <td>8.76651</td>\n",
       "      <td>-25.32426</td>\n",
       "      <td>NaN</td>\n",
       "    </tr>\n",
       "  </tbody>\n",
       "</table>\n",
       "</div>"
      ],
      "text/plain": [
       "  studyName  Sample Number                              Species  Region  \\\n",
       "0   PAL0708              1  Adelie Penguin (Pygoscelis adeliae)  Anvers   \n",
       "1   PAL0708              2  Adelie Penguin (Pygoscelis adeliae)  Anvers   \n",
       "2   PAL0708              3  Adelie Penguin (Pygoscelis adeliae)  Anvers   \n",
       "3   PAL0708              4  Adelie Penguin (Pygoscelis adeliae)  Anvers   \n",
       "4   PAL0708              5  Adelie Penguin (Pygoscelis adeliae)  Anvers   \n",
       "\n",
       "      Island               Stage Individual ID Clutch Completion  Date Egg  \\\n",
       "0  Torgersen  Adult, 1 Egg Stage          N1A1               Yes  11/11/07   \n",
       "1  Torgersen  Adult, 1 Egg Stage          N1A2               Yes  11/11/07   \n",
       "2  Torgersen  Adult, 1 Egg Stage          N2A1               Yes  11/16/07   \n",
       "3  Torgersen  Adult, 1 Egg Stage          N2A2               Yes  11/16/07   \n",
       "4  Torgersen  Adult, 1 Egg Stage          N3A1               Yes  11/16/07   \n",
       "\n",
       "   Culmen Length (mm)  Culmen Depth (mm)  Flipper Length (mm)  Body Mass (g)  \\\n",
       "0                39.1               18.7                181.0         3750.0   \n",
       "1                39.5               17.4                186.0         3800.0   \n",
       "2                40.3               18.0                195.0         3250.0   \n",
       "3                 NaN                NaN                  NaN            NaN   \n",
       "4                36.7               19.3                193.0         3450.0   \n",
       "\n",
       "      Sex  Delta 15 N (o/oo)  Delta 13 C (o/oo)  \\\n",
       "0    MALE                NaN                NaN   \n",
       "1  FEMALE            8.94956          -24.69454   \n",
       "2  FEMALE            8.36821          -25.33302   \n",
       "3     NaN                NaN                NaN   \n",
       "4  FEMALE            8.76651          -25.32426   \n",
       "\n",
       "                         Comments  \n",
       "0  Not enough blood for isotopes.  \n",
       "1                             NaN  \n",
       "2                             NaN  \n",
       "3              Adult not sampled.  \n",
       "4                             NaN  "
      ]
     },
     "execution_count": 19,
     "metadata": {},
     "output_type": "execute_result"
    }
   ],
   "source": [
    "# Read in data\n",
    "url = 'https://philchodrow.github.io/PIC16A/datasets/palmer_penguins.csv'\n",
    "penguins = pd.read_csv(url)\n",
    "penguins.head()"
   ]
  },
  {
   "cell_type": "markdown",
   "metadata": {},
   "source": [
    "# Exploratory Analysis"
   ]
  },
  {
   "cell_type": "markdown",
   "metadata": {},
   "source": [
    "## Data Cleaning\n",
    "\n",
    "*First thing first, the data as imported was messy and had some incomplete rows. Our first step was to clean the data; we chose relevant columns from the data frame that we thought would be important for determining the species of a penguin, removed any rows that had missing information, and shortened the species names of the penguins.*"
   ]
  },
  {
   "cell_type": "code",
   "execution_count": 20,
   "metadata": {},
   "outputs": [
    {
     "data": {
      "text/html": [
       "<div>\n",
       "<style scoped>\n",
       "    .dataframe tbody tr th:only-of-type {\n",
       "        vertical-align: middle;\n",
       "    }\n",
       "\n",
       "    .dataframe tbody tr th {\n",
       "        vertical-align: top;\n",
       "    }\n",
       "\n",
       "    .dataframe thead th {\n",
       "        text-align: right;\n",
       "    }\n",
       "</style>\n",
       "<table border=\"1\" class=\"dataframe\">\n",
       "  <thead>\n",
       "    <tr style=\"text-align: right;\">\n",
       "      <th></th>\n",
       "      <th>Species</th>\n",
       "      <th>Island</th>\n",
       "      <th>Culmen Length (mm)</th>\n",
       "      <th>Culmen Depth (mm)</th>\n",
       "      <th>Flipper Length (mm)</th>\n",
       "      <th>Body Mass (g)</th>\n",
       "      <th>Sex</th>\n",
       "      <th>Delta 15 N (o/oo)</th>\n",
       "      <th>Delta 13 C (o/oo)</th>\n",
       "    </tr>\n",
       "  </thead>\n",
       "  <tbody>\n",
       "    <tr>\n",
       "      <th>1</th>\n",
       "      <td>Adelie</td>\n",
       "      <td>Torgersen</td>\n",
       "      <td>39.5</td>\n",
       "      <td>17.4</td>\n",
       "      <td>186.0</td>\n",
       "      <td>3800.0</td>\n",
       "      <td>FEMALE</td>\n",
       "      <td>8.94956</td>\n",
       "      <td>-24.69454</td>\n",
       "    </tr>\n",
       "    <tr>\n",
       "      <th>2</th>\n",
       "      <td>Adelie</td>\n",
       "      <td>Torgersen</td>\n",
       "      <td>40.3</td>\n",
       "      <td>18.0</td>\n",
       "      <td>195.0</td>\n",
       "      <td>3250.0</td>\n",
       "      <td>FEMALE</td>\n",
       "      <td>8.36821</td>\n",
       "      <td>-25.33302</td>\n",
       "    </tr>\n",
       "    <tr>\n",
       "      <th>4</th>\n",
       "      <td>Adelie</td>\n",
       "      <td>Torgersen</td>\n",
       "      <td>36.7</td>\n",
       "      <td>19.3</td>\n",
       "      <td>193.0</td>\n",
       "      <td>3450.0</td>\n",
       "      <td>FEMALE</td>\n",
       "      <td>8.76651</td>\n",
       "      <td>-25.32426</td>\n",
       "    </tr>\n",
       "    <tr>\n",
       "      <th>5</th>\n",
       "      <td>Adelie</td>\n",
       "      <td>Torgersen</td>\n",
       "      <td>39.3</td>\n",
       "      <td>20.6</td>\n",
       "      <td>190.0</td>\n",
       "      <td>3650.0</td>\n",
       "      <td>MALE</td>\n",
       "      <td>8.66496</td>\n",
       "      <td>-25.29805</td>\n",
       "    </tr>\n",
       "    <tr>\n",
       "      <th>6</th>\n",
       "      <td>Adelie</td>\n",
       "      <td>Torgersen</td>\n",
       "      <td>38.9</td>\n",
       "      <td>17.8</td>\n",
       "      <td>181.0</td>\n",
       "      <td>3625.0</td>\n",
       "      <td>FEMALE</td>\n",
       "      <td>9.18718</td>\n",
       "      <td>-25.21799</td>\n",
       "    </tr>\n",
       "  </tbody>\n",
       "</table>\n",
       "</div>"
      ],
      "text/plain": [
       "  Species     Island  Culmen Length (mm)  Culmen Depth (mm)  \\\n",
       "1  Adelie  Torgersen                39.5               17.4   \n",
       "2  Adelie  Torgersen                40.3               18.0   \n",
       "4  Adelie  Torgersen                36.7               19.3   \n",
       "5  Adelie  Torgersen                39.3               20.6   \n",
       "6  Adelie  Torgersen                38.9               17.8   \n",
       "\n",
       "   Flipper Length (mm)  Body Mass (g)     Sex  Delta 15 N (o/oo)  \\\n",
       "1                186.0         3800.0  FEMALE            8.94956   \n",
       "2                195.0         3250.0  FEMALE            8.36821   \n",
       "4                193.0         3450.0  FEMALE            8.76651   \n",
       "5                190.0         3650.0    MALE            8.66496   \n",
       "6                181.0         3625.0  FEMALE            9.18718   \n",
       "\n",
       "   Delta 13 C (o/oo)  \n",
       "1          -24.69454  \n",
       "2          -25.33302  \n",
       "4          -25.32426  \n",
       "5          -25.29805  \n",
       "6          -25.21799  "
      ]
     },
     "execution_count": 20,
     "metadata": {},
     "output_type": "execute_result"
    }
   ],
   "source": [
    "# Data cleaning\n",
    "cols = ['Species','Island','Culmen Length (mm)','Culmen Depth (mm)',\n",
    "        'Flipper Length (mm)','Body Mass (g)','Sex',\n",
    "        'Delta 15 N (o/oo)', 'Delta 13 C (o/oo)']\n",
    "penguins = penguins[cols]\n",
    "penguins = penguins.dropna()\n",
    "penguins[\"Species\"] = penguins[\"Species\"].str.split().str.get(0)\n",
    "penguins = penguins.loc[penguins['Sex']!='.']\n",
    "penguins.head()"
   ]
  },
  {
   "cell_type": "markdown",
   "metadata": {},
   "source": [
    "## Data Inspection\n",
    "\n",
    "*Next, we generated tables and figures to inspect the relationship between variables. This meant creating **histograms** for the quantitative variables, **Culmen Length (mm), Culmen Depth (mm), Flipper Length (mm), Body Mass (g), and Delta 15 N (o/oo), Delta 13 C (o/oo)** and later **tables** for the qualitative variables, **Island and Sex**.*"
   ]
  },
  {
   "cell_type": "code",
   "execution_count": 21,
   "metadata": {},
   "outputs": [
    {
     "data": {
      "text/html": [
       "<div>\n",
       "<style scoped>\n",
       "    .dataframe tbody tr th:only-of-type {\n",
       "        vertical-align: middle;\n",
       "    }\n",
       "\n",
       "    .dataframe tbody tr th {\n",
       "        vertical-align: top;\n",
       "    }\n",
       "\n",
       "    .dataframe thead th {\n",
       "        text-align: right;\n",
       "    }\n",
       "</style>\n",
       "<table border=\"1\" class=\"dataframe\">\n",
       "  <thead>\n",
       "    <tr style=\"text-align: right;\">\n",
       "      <th></th>\n",
       "      <th>Culmen Length (mm)</th>\n",
       "      <th>Culmen Depth (mm)</th>\n",
       "      <th>Flipper Length (mm)</th>\n",
       "      <th>Body Mass (g)</th>\n",
       "      <th>Delta 15 N (o/oo)</th>\n",
       "      <th>Delta 13 C (o/oo)</th>\n",
       "    </tr>\n",
       "    <tr>\n",
       "      <th>Species</th>\n",
       "      <th></th>\n",
       "      <th></th>\n",
       "      <th></th>\n",
       "      <th></th>\n",
       "      <th></th>\n",
       "      <th></th>\n",
       "    </tr>\n",
       "  </thead>\n",
       "  <tbody>\n",
       "    <tr>\n",
       "      <th>Adelie</th>\n",
       "      <td>38.79</td>\n",
       "      <td>18.32</td>\n",
       "      <td>190.32</td>\n",
       "      <td>3702.70</td>\n",
       "      <td>8.86</td>\n",
       "      <td>-25.81</td>\n",
       "    </tr>\n",
       "    <tr>\n",
       "      <th>Chinstrap</th>\n",
       "      <td>48.79</td>\n",
       "      <td>18.40</td>\n",
       "      <td>195.67</td>\n",
       "      <td>3729.85</td>\n",
       "      <td>9.36</td>\n",
       "      <td>-24.56</td>\n",
       "    </tr>\n",
       "    <tr>\n",
       "      <th>Gentoo</th>\n",
       "      <td>47.57</td>\n",
       "      <td>14.99</td>\n",
       "      <td>217.19</td>\n",
       "      <td>5091.10</td>\n",
       "      <td>8.25</td>\n",
       "      <td>-26.18</td>\n",
       "    </tr>\n",
       "  </tbody>\n",
       "</table>\n",
       "</div>"
      ],
      "text/plain": [
       "           Culmen Length (mm)  Culmen Depth (mm)  Flipper Length (mm)  \\\n",
       "Species                                                                 \n",
       "Adelie                  38.79              18.32               190.32   \n",
       "Chinstrap               48.79              18.40               195.67   \n",
       "Gentoo                  47.57              14.99               217.19   \n",
       "\n",
       "           Body Mass (g)  Delta 15 N (o/oo)  Delta 13 C (o/oo)  \n",
       "Species                                                         \n",
       "Adelie           3702.70               8.86             -25.81  \n",
       "Chinstrap        3729.85               9.36             -24.56  \n",
       "Gentoo           5091.10               8.25             -26.18  "
      ]
     },
     "execution_count": 21,
     "metadata": {},
     "output_type": "execute_result"
    }
   ],
   "source": [
    "def penguin_summary_table(group_cols, value_cols):\n",
    "    '''\n",
    "    This function generates a summary table of the penguins data set\n",
    "    Parameter group_cols is how the penguins data set is grouped\n",
    "    Parameter value_cols are the variables that are being summarized\n",
    "    '''\n",
    "    summary = penguins.groupby(group_cols)[value_cols].mean().round(2)\n",
    "    return summary\n",
    "\n",
    "penguin_summary_table([\"Species\"],\n",
    " [\"Culmen Length (mm)\", \"Culmen Depth (mm)\", \n",
    "  \"Flipper Length (mm)\", \"Body Mass (g)\", \n",
    "  \"Delta 15 N (o/oo)\", \"Delta 13 C (o/oo)\"])"
   ]
  },
  {
   "cell_type": "markdown",
   "metadata": {},
   "source": [
    "*From this table, we noticed **Culmen Length (mm), Culmen Depth (mm), Flipper Length (mm), and Body Mass (g)** each have a penguin species that are outlier-ish; noticeably longer, shorter, heavier, or lighter than the other penguins in the category. This lead us to believe that it would be these quantatative variables that would be best as predictor variables in our model.* "
   ]
  },
  {
   "cell_type": "code",
   "execution_count": 22,
   "metadata": {
    "scrolled": true
   },
   "outputs": [
    {
     "data": {
      "text/plain": [
       "<AxesSubplot:xlabel='Culmen Depth (mm)', ylabel='Count'>"
      ]
     },
     "execution_count": 22,
     "metadata": {},
     "output_type": "execute_result"
    },
    {
     "data": {
      "image/png": "[encoded data removed]",
      "text/plain": [
       "<Figure size 720x216 with 2 Axes>"
      ]
     },
     "metadata": {
      "needs_background": "light"
     },
     "output_type": "display_data"
    }
   ],
   "source": [
    "# Histograms to plot Culmen Lengths and Depths of each penguin species\n",
    "fig, ax = plt.subplots(1,2, figsize=(10,3), sharey=True)\n",
    "sns.histplot(data=penguins, x='Culmen Length (mm)', hue='Species', ax=ax[0], element='poly')\n",
    "sns.histplot(data=penguins, x='Culmen Depth (mm)', hue='Species', ax=ax[1], element='poly')"
   ]
  },
  {
   "cell_type": "markdown",
   "metadata": {},
   "source": [
    "*From the graphs, it is easy to see **Adelie** penguins have a noticably shorter average **Culmen Length (mm)**, and **Gentoo** penguins have a noticeably shorter average **Culmen Depth (mm)**. Each variable can be used to distinguish each penguin respectively, however, there is considerable overlap in the **Culmen Length (mm)** of **Chinstrap** and **Gentoo** penguins, and the **Culmen Depth (mm)** of **Chinstrap** and **Adelie** penguins. Individually, each variable may not be useful for predicting a penguin's species because of this overlap, but when used together...*"
   ]
  },
  {
   "cell_type": "code",
   "execution_count": 23,
   "metadata": {},
   "outputs": [
    {
     "data": {
      "text/plain": [
       "<AxesSubplot:xlabel='Culmen Length (mm)', ylabel='Culmen Depth (mm)'>"
      ]
     },
     "execution_count": 23,
     "metadata": {},
     "output_type": "execute_result"
    },
    {
     "data": {
      "image/png": "[encoded data removed]",
      "text/plain": [
       "<Figure size 432x288 with 1 Axes>"
      ]
     },
     "metadata": {
      "needs_background": "light"
     },
     "output_type": "display_data"
    }
   ],
   "source": [
    "sns.histplot(data=penguins, x='Culmen Length (mm)', y='Culmen Depth (mm)', hue='Species')"
   ]
  },
  {
   "cell_type": "markdown",
   "metadata": {},
   "source": [
    "*Although there is some overlap between the penguins, we can see that when graphing **Culmen Length (mm) vs Culmen Depth (mm)**, the graph forms more or less three distinct groups of penguins, confirming our thoughts that **Culmen Length (mm)** and **Culmen Depth (mm)** are good predictor variables to use.* "
   ]
  },
  {
   "cell_type": "code",
   "execution_count": 24,
   "metadata": {},
   "outputs": [
    {
     "data": {
      "text/plain": [
       "<AxesSubplot:xlabel='Flipper Length (mm)', ylabel='Body Mass (g)'>"
      ]
     },
     "execution_count": 24,
     "metadata": {},
     "output_type": "execute_result"
    },
    {
     "data": {
      "image/png": "[encoded data removed]",
      "text/plain": [
       "<Figure size 432x288 with 1 Axes>"
      ]
     },
     "metadata": {
      "needs_background": "light"
     },
     "output_type": "display_data"
    }
   ],
   "source": [
    "# Histogram for Flipper Length and Body Mass\n",
    "sns.histplot(penguins, x=\"Flipper Length (mm)\", y=\"Body Mass (g)\", hue=\"Species\")"
   ]
  },
  {
   "cell_type": "markdown",
   "metadata": {},
   "source": [
    "*When graphing **Flipper Length (mm)** vs **Body mass (g)** we noticed that while there is considerable overlap in the mass and flipper length of **Adelie** and **Chinstrap penguins**, **Gentoo** penguins certainly distinguish themselves with both longer flippers and higher body mass. Perhaps **Gentoo** penguins are a larger species on average, though a height variable would be useful before reaching that conclusion. Regardless, **Flipper Length (mm)** and **Body mass (g)** could be useful in distinguishing **Gentoo** penguins from the other species.*"
   ]
  },
  {
   "cell_type": "code",
   "execution_count": 25,
   "metadata": {},
   "outputs": [
    {
     "data": {
      "text/plain": [
       "<AxesSubplot:xlabel='Delta 13 C (o/oo)', ylabel='Species'>"
      ]
     },
     "execution_count": 25,
     "metadata": {},
     "output_type": "execute_result"
    },
    {
     "data": {
      "image/png": "[encoded data removed]",
      "text/plain": [
       "<Figure size 720x216 with 2 Axes>"
      ]
     },
     "metadata": {
      "needs_background": "light"
     },
     "output_type": "display_data"
    }
   ],
   "source": [
    "fig, ax = plt.subplots(1,2, figsize=(10,3), sharey=True)\n",
    "sns.histplot(penguins, x=\"Delta 15 N (o/oo)\", y=\"Species\", hue=\"Species\", ax=ax[0], legend=False)\n",
    "sns.histplot(penguins, x=\"Delta 13 C (o/oo)\", y=\"Species\", hue=\"Species\", ax=ax[1])"
   ]
  },
  {
   "cell_type": "markdown",
   "metadata": {},
   "source": [
    "*From these graphs and the summary table, we saw **Chinstrap** penguins tended to have the highest concentration of **Delta 15 N (o/oo)** and **Delta 13 C (o/oo)**, while **Gentoo** had the lowest concentrations, on average. However, **Adelie** penguins have huge variation in their concentrations of **Delta 15 N (o/oo)** and **Delta 13 C (o/oo)**, from the lowest of Gentoo to the highest of Chinstrap. The overlap is so large that it may be difficult to distinguish the species using these two variables. Still, **Adelie**'s and **Gentoo**'s centers for **Delta 13 C (o/oo)** are more to the left, a contrast to the **Chinstrap**'s, whose center is to the right. The the centers for **Delta 15 N (o/oo)**, however, are more evenly spaced. So **Delta 13 C (o/oo)** may be a better predictor than **Delta 15 N (o/oo)**.*"
   ]
  },
  {
   "cell_type": "markdown",
   "metadata": {},
   "source": [
    "How about categorical variables **Island** and **Sex**? We then put up **tables** to investigate the relationship between the two and penguin species. "
   ]
  },
  {
   "cell_type": "code",
   "execution_count": 26,
   "metadata": {},
   "outputs": [
    {
     "data": {
      "text/html": [
       "<div>\n",
       "<style scoped>\n",
       "    .dataframe tbody tr th:only-of-type {\n",
       "        vertical-align: middle;\n",
       "    }\n",
       "\n",
       "    .dataframe tbody tr th {\n",
       "        vertical-align: top;\n",
       "    }\n",
       "\n",
       "    .dataframe thead th {\n",
       "        text-align: right;\n",
       "    }\n",
       "</style>\n",
       "<table border=\"1\" class=\"dataframe\">\n",
       "  <thead>\n",
       "    <tr style=\"text-align: right;\">\n",
       "      <th></th>\n",
       "      <th>Species</th>\n",
       "      <th>Sex</th>\n",
       "      <th>count</th>\n",
       "    </tr>\n",
       "  </thead>\n",
       "  <tbody>\n",
       "    <tr>\n",
       "      <th>0</th>\n",
       "      <td>Adelie</td>\n",
       "      <td>FEMALE</td>\n",
       "      <td>71</td>\n",
       "    </tr>\n",
       "    <tr>\n",
       "      <th>1</th>\n",
       "      <td>Adelie</td>\n",
       "      <td>MALE</td>\n",
       "      <td>68</td>\n",
       "    </tr>\n",
       "    <tr>\n",
       "      <th>2</th>\n",
       "      <td>Chinstrap</td>\n",
       "      <td>FEMALE</td>\n",
       "      <td>34</td>\n",
       "    </tr>\n",
       "    <tr>\n",
       "      <th>3</th>\n",
       "      <td>Chinstrap</td>\n",
       "      <td>MALE</td>\n",
       "      <td>33</td>\n",
       "    </tr>\n",
       "    <tr>\n",
       "      <th>4</th>\n",
       "      <td>Gentoo</td>\n",
       "      <td>FEMALE</td>\n",
       "      <td>58</td>\n",
       "    </tr>\n",
       "    <tr>\n",
       "      <th>5</th>\n",
       "      <td>Gentoo</td>\n",
       "      <td>MALE</td>\n",
       "      <td>60</td>\n",
       "    </tr>\n",
       "  </tbody>\n",
       "</table>\n",
       "</div>"
      ],
      "text/plain": [
       "     Species     Sex  count\n",
       "0     Adelie  FEMALE     71\n",
       "1     Adelie    MALE     68\n",
       "2  Chinstrap  FEMALE     34\n",
       "3  Chinstrap    MALE     33\n",
       "4     Gentoo  FEMALE     58\n",
       "5     Gentoo    MALE     60"
      ]
     },
     "execution_count": 26,
     "metadata": {},
     "output_type": "execute_result"
    }
   ],
   "source": [
    "# Table for Sex\n",
    "summary_sex = penguins.groupby(['Species','Sex']).size().reset_index(name='count')\n",
    "summary_sex"
   ]
  },
  {
   "cell_type": "markdown",
   "metadata": {},
   "source": [
    "*Overall, the distribution in the sex for each penguin is roughly equal, meaning **Sex** would be a poor choice of variable in distinguishing the species of each penguin.*"
   ]
  },
  {
   "cell_type": "code",
   "execution_count": 27,
   "metadata": {},
   "outputs": [
    {
     "data": {
      "text/html": [
       "<div>\n",
       "<style scoped>\n",
       "    .dataframe tbody tr th:only-of-type {\n",
       "        vertical-align: middle;\n",
       "    }\n",
       "\n",
       "    .dataframe tbody tr th {\n",
       "        vertical-align: top;\n",
       "    }\n",
       "\n",
       "    .dataframe thead th {\n",
       "        text-align: right;\n",
       "    }\n",
       "</style>\n",
       "<table border=\"1\" class=\"dataframe\">\n",
       "  <thead>\n",
       "    <tr style=\"text-align: right;\">\n",
       "      <th></th>\n",
       "      <th>Species</th>\n",
       "      <th>Island</th>\n",
       "      <th>count</th>\n",
       "    </tr>\n",
       "  </thead>\n",
       "  <tbody>\n",
       "    <tr>\n",
       "      <th>0</th>\n",
       "      <td>Adelie</td>\n",
       "      <td>Biscoe</td>\n",
       "      <td>44</td>\n",
       "    </tr>\n",
       "    <tr>\n",
       "      <th>1</th>\n",
       "      <td>Adelie</td>\n",
       "      <td>Dream</td>\n",
       "      <td>52</td>\n",
       "    </tr>\n",
       "    <tr>\n",
       "      <th>2</th>\n",
       "      <td>Adelie</td>\n",
       "      <td>Torgersen</td>\n",
       "      <td>43</td>\n",
       "    </tr>\n",
       "    <tr>\n",
       "      <th>3</th>\n",
       "      <td>Chinstrap</td>\n",
       "      <td>Dream</td>\n",
       "      <td>67</td>\n",
       "    </tr>\n",
       "    <tr>\n",
       "      <th>4</th>\n",
       "      <td>Gentoo</td>\n",
       "      <td>Biscoe</td>\n",
       "      <td>118</td>\n",
       "    </tr>\n",
       "  </tbody>\n",
       "</table>\n",
       "</div>"
      ],
      "text/plain": [
       "     Species     Island  count\n",
       "0     Adelie     Biscoe     44\n",
       "1     Adelie      Dream     52\n",
       "2     Adelie  Torgersen     43\n",
       "3  Chinstrap      Dream     67\n",
       "4     Gentoo     Biscoe    118"
      ]
     },
     "execution_count": 27,
     "metadata": {},
     "output_type": "execute_result"
    }
   ],
   "source": [
    "# Table for Island\n",
    "summary_island = penguins.groupby(['Species','Island']).size().reset_index(name='count')\n",
    "summary_island"
   ]
  },
  {
   "cell_type": "markdown",
   "metadata": {},
   "source": [
    "*On the other hand, **Island** can certainly be a useful predictor. **Chinstrap** and **Gentoo** penguins each appear only on one island, while **Adelie** appears on three. This could be extremely useful when considering the population of each species on each island. For example, if a penguin is from Togersen, it must be an **Adelie**, and if it is from Biscoe, it is more likely to be a **Gentoo**, considering **Adelie** and **Gentoo** are the only penguins on Biscoe, and the **Gentoo** population on that island is nearly three times that of the **Adelie**'s. A similar, but less convincing, conclusion could be reached for a penguin from Dream, when considering the close count of Adelie and Chinstrap penguins on Dream.*"
   ]
  },
  {
   "cell_type": "markdown",
   "metadata": {},
   "source": [
    "## Data Preparation \n",
    "\n",
    "*To prepare for modeling, we recoded **Island** and **Species** into numerical values and split the data into train and test sets. As discussed above, we found **Sex** and **Delta 15 N (o/oo)** are poor choices for variables in distinguishing the species of a penguin, thus we decided not to include them in our models.*"
   ]
  },
  {
   "cell_type": "code",
   "execution_count": 40,
   "metadata": {},
   "outputs": [],
   "source": [
    "# Create potential predictors and a target\n",
    "X = penguins.drop([\"Species\",\"Sex\",\"Delta 15 N (o/oo)\"], axis=1)\n",
    "Y = penguins[\"Species\"]\n",
    "\n",
    "# Recode Island in X\n",
    "le1 = preprocessing.LabelEncoder()\n",
    "X[\"Island\"] = le1.fit_transform(X[\"Island\"])\n",
    "\n",
    "#Data Standardization #\n",
    "C_len_scaler = StandardScaler()\n",
    "C_dep_scaler = StandardScaler()\n",
    "F_len_scaler = StandardScaler()\n",
    "Body_scaler = StandardScaler()\n",
    "Delta_scaler = StandardScaler()\n",
    "\n",
    "#Calculate the mean and variance#\n",
    "C_len_scaler.fit(pd.DataFrame(X['Culmen Length (mm)']))\n",
    "C_dep_scaler.fit(pd.DataFrame(X['Culmen Depth (mm)']))\n",
    "F_len_scaler.fit(pd.DataFrame(X['Flipper Length (mm)']))\n",
    "Body_scaler.fit(pd.DataFrame(X['Body Mass (g)']))\n",
    "Delta_scaler.fit(pd.DataFrame(X['Delta 13 C (o/oo)']))\n",
    "\n",
    "#Standardized data#\n",
    "X[['Culmen Length (mm)']] = C_len_scaler.transform(X[['Culmen Length (mm)']])\n",
    "X[['Culmen Depth (mm)']] = C_dep_scaler.transform(X[['Culmen Depth (mm)']])\n",
    "X[['Flipper Length (mm)']] = F_len_scaler.transform(X[['Flipper Length (mm)']])\n",
    "X[['Body Mass (g)']] = Body_scaler.transform(X[['Body Mass (g)']])\n",
    "X[['Delta 13 C(o/oo)']] = Delta_scaler.transform(X[['Delta 13 C (o/oo)']])\n",
    "\n",
    "\n",
    "# Recode Species in y\n",
    "le2 = preprocessing.LabelEncoder()\n",
    "Y = le2.fit_transform(Y)"
   ]
  },
  {
   "cell_type": "markdown",
   "metadata": {},
   "source": [
    "# Modeling\n",
    "\n",
    "*In this section, we used three machine learning models: **Multinomial Logistic Regression**, a **Decision Tree**, and a **Support Vector Machine**. Besides the fact they were required, we chose multinomial logistic regression and a descison tree as two of our models because of their ease of use and ability to model multiple outcomes. We chose a support vector machine because its use in classification problems, such as classifying penguins.*"
   ]
  },
  {
   "cell_type": "markdown",
   "metadata": {},
   "source": [
    "## Strategy\n",
    "*We had a simple strategy to find the optimal predictor variables for predicting the species of a penguin:*\n",
    "\n",
    "    1.Find the best hyperparameters in three models.\n",
    "        Multinomial Logistic Regression: Parameter C, Support vector: Parameter C, Decision tree: Parameter max_depth\n",
    "       \n",
    "    2.Apply the best hyperparameters to the models and find the best predictor variables."
   ]
  },
  {
   "cell_type": "markdown",
   "metadata": {},
   "source": [
    "## Model Explanation\n",
    "**Multinomial Logistic Regression**\n",
    "    - An extension of the most common algorithm model, logistic regression, which is able to predict the probabilities of more         than two discrete outcomes. Similarily to linear regression, logistic regression makes a prediction by taking the weighted       average of input features and output a categorical prediction. Unlike linear regression, however, logistic regression fits       seen, training data to a S-shaped logistic function.  \n",
    "    \n",
    "**Decision tree Model**\n",
    "    - A decison tree, as the name implies, uses a tree-like structure to classify data by separating seen, training data based         on specified predictor variables. Each 'leaf' of the tree represents a different predictor variable, with the top leaf, or       root, being the most important predictor. \n",
    "    \n",
    "**Support Vector Model**\n",
    "    - Plots data in n-dimensional space and finds a 'hyperplane' that classifies and seperates the data. The ideal hyperplane         has the largest distance between the hyperplane and the closest point in the data.  "
   ]
  },
  {
   "cell_type": "markdown",
   "metadata": {},
   "source": [
    "## Find the best hyperparameter by using cross-vaildation\n",
    "   "
   ]
  },
  {
   "cell_type": "code",
   "execution_count": 41,
   "metadata": {
    "scrolled": true
   },
   "outputs": [],
   "source": [
    "#Find the best C parameter for Logistic and SVM model#\n",
    "\n",
    "\"\"\"\n",
    "Hyperparameter C : float, default=1.0\n",
    "Inverse of regularization strength;  \n",
    "In support vector machines, smaller values specify stronger regularization.\n",
    "In regularization, we retain the features of the function, \n",
    "but reduce the order of magnitude of the feature variables\n",
    "\"\"\"\n",
    "\n",
    "TestX = X[['Island', 'Culmen Length (mm)', 'Culmen Depth (mm)']].values #test the cols \n",
    "TestY = Y\n",
    "\n",
    "X_train,X_test,Y_train,Y_test = train_test_split(TestX,TestY,test_size = 0.20)\n",
    "\n",
    "def select_c_function(x,y,a):\n",
    "    \"\"\"\n",
    "    This function is to measure the score of each model.\n",
    "    Choose the accruacy as the score.\n",
    "    The parameter x,y: test data\n",
    "    The parameter a:the estimator of model\n",
    "    Return the score of the model after cross-vaildation\n",
    "    \"\"\"\n",
    "    # Perform 10-fold cross-validation on the model. \n",
    "    # Since f1 cannot be applied to multi-class, the accuracy of scoring is selected\n",
    "    ac_score = cross_val_score(a, x, y, scoring='accuracy', cv=10)\n",
    "    return ac_score.mean() # Calculate the mean of 10-fold cross-validation's scores"
   ]
  },
  {
   "cell_type": "code",
   "execution_count": 42,
   "metadata": {
    "scrolled": true
   },
   "outputs": [
    {
     "name": "stderr",
     "output_type": "stream",
     "text": [
      "C:\\Users\\Eric Skrabak\\anaconda3\\lib\\site-packages\\sklearn\\linear_model\\_sag.py:328: ConvergenceWarning: The max_iter was reached which means the coef_ did not converge\n",
      "  warnings.warn(\"The max_iter was reached which means \"\n",
      "C:\\Users\\Eric Skrabak\\anaconda3\\lib\\site-packages\\sklearn\\linear_model\\_sag.py:328: ConvergenceWarning: The max_iter was reached which means the coef_ did not converge\n",
      "  warnings.warn(\"The max_iter was reached which means \"\n",
      "C:\\Users\\Eric Skrabak\\anaconda3\\lib\\site-packages\\sklearn\\linear_model\\_sag.py:328: ConvergenceWarning: The max_iter was reached which means the coef_ did not converge\n",
      "  warnings.warn(\"The max_iter was reached which means \"\n",
      "C:\\Users\\Eric Skrabak\\anaconda3\\lib\\site-packages\\sklearn\\linear_model\\_sag.py:328: ConvergenceWarning: The max_iter was reached which means the coef_ did not converge\n",
      "  warnings.warn(\"The max_iter was reached which means \"\n",
      "C:\\Users\\Eric Skrabak\\anaconda3\\lib\\site-packages\\sklearn\\linear_model\\_sag.py:328: ConvergenceWarning: The max_iter was reached which means the coef_ did not converge\n",
      "  warnings.warn(\"The max_iter was reached which means \"\n",
      "C:\\Users\\Eric Skrabak\\anaconda3\\lib\\site-packages\\sklearn\\linear_model\\_sag.py:328: ConvergenceWarning: The max_iter was reached which means the coef_ did not converge\n",
      "  warnings.warn(\"The max_iter was reached which means \"\n",
      "C:\\Users\\Eric Skrabak\\anaconda3\\lib\\site-packages\\sklearn\\linear_model\\_sag.py:328: ConvergenceWarning: The max_iter was reached which means the coef_ did not converge\n",
      "  warnings.warn(\"The max_iter was reached which means \"\n",
      "C:\\Users\\Eric Skrabak\\anaconda3\\lib\\site-packages\\sklearn\\linear_model\\_sag.py:328: ConvergenceWarning: The max_iter was reached which means the coef_ did not converge\n",
      "  warnings.warn(\"The max_iter was reached which means \"\n",
      "C:\\Users\\Eric Skrabak\\anaconda3\\lib\\site-packages\\sklearn\\linear_model\\_sag.py:328: ConvergenceWarning: The max_iter was reached which means the coef_ did not converge\n",
      "  warnings.warn(\"The max_iter was reached which means \"\n",
      "C:\\Users\\Eric Skrabak\\anaconda3\\lib\\site-packages\\sklearn\\linear_model\\_sag.py:328: ConvergenceWarning: The max_iter was reached which means the coef_ did not converge\n",
      "  warnings.warn(\"The max_iter was reached which means \"\n",
      "C:\\Users\\Eric Skrabak\\anaconda3\\lib\\site-packages\\sklearn\\linear_model\\_sag.py:328: ConvergenceWarning: The max_iter was reached which means the coef_ did not converge\n",
      "  warnings.warn(\"The max_iter was reached which means \"\n",
      "C:\\Users\\Eric Skrabak\\anaconda3\\lib\\site-packages\\sklearn\\linear_model\\_sag.py:328: ConvergenceWarning: The max_iter was reached which means the coef_ did not converge\n",
      "  warnings.warn(\"The max_iter was reached which means \"\n",
      "C:\\Users\\Eric Skrabak\\anaconda3\\lib\\site-packages\\sklearn\\linear_model\\_sag.py:328: ConvergenceWarning: The max_iter was reached which means the coef_ did not converge\n",
      "  warnings.warn(\"The max_iter was reached which means \"\n",
      "C:\\Users\\Eric Skrabak\\anaconda3\\lib\\site-packages\\sklearn\\linear_model\\_sag.py:328: ConvergenceWarning: The max_iter was reached which means the coef_ did not converge\n",
      "  warnings.warn(\"The max_iter was reached which means \"\n",
      "C:\\Users\\Eric Skrabak\\anaconda3\\lib\\site-packages\\sklearn\\linear_model\\_sag.py:328: ConvergenceWarning: The max_iter was reached which means the coef_ did not converge\n",
      "  warnings.warn(\"The max_iter was reached which means \"\n",
      "C:\\Users\\Eric Skrabak\\anaconda3\\lib\\site-packages\\sklearn\\linear_model\\_sag.py:328: ConvergenceWarning: The max_iter was reached which means the coef_ did not converge\n",
      "  warnings.warn(\"The max_iter was reached which means \"\n",
      "C:\\Users\\Eric Skrabak\\anaconda3\\lib\\site-packages\\sklearn\\linear_model\\_sag.py:328: ConvergenceWarning: The max_iter was reached which means the coef_ did not converge\n",
      "  warnings.warn(\"The max_iter was reached which means \"\n",
      "C:\\Users\\Eric Skrabak\\anaconda3\\lib\\site-packages\\sklearn\\linear_model\\_sag.py:328: ConvergenceWarning: The max_iter was reached which means the coef_ did not converge\n",
      "  warnings.warn(\"The max_iter was reached which means \"\n",
      "C:\\Users\\Eric Skrabak\\anaconda3\\lib\\site-packages\\sklearn\\linear_model\\_sag.py:328: ConvergenceWarning: The max_iter was reached which means the coef_ did not converge\n",
      "  warnings.warn(\"The max_iter was reached which means \"\n",
      "C:\\Users\\Eric Skrabak\\anaconda3\\lib\\site-packages\\sklearn\\linear_model\\_sag.py:328: ConvergenceWarning: The max_iter was reached which means the coef_ did not converge\n",
      "  warnings.warn(\"The max_iter was reached which means \"\n",
      "C:\\Users\\Eric Skrabak\\anaconda3\\lib\\site-packages\\sklearn\\linear_model\\_sag.py:328: ConvergenceWarning: The max_iter was reached which means the coef_ did not converge\n",
      "  warnings.warn(\"The max_iter was reached which means \"\n",
      "C:\\Users\\Eric Skrabak\\anaconda3\\lib\\site-packages\\sklearn\\linear_model\\_sag.py:328: ConvergenceWarning: The max_iter was reached which means the coef_ did not converge\n",
      "  warnings.warn(\"The max_iter was reached which means \"\n",
      "C:\\Users\\Eric Skrabak\\anaconda3\\lib\\site-packages\\sklearn\\linear_model\\_sag.py:328: ConvergenceWarning: The max_iter was reached which means the coef_ did not converge\n",
      "  warnings.warn(\"The max_iter was reached which means \"\n",
      "C:\\Users\\Eric Skrabak\\anaconda3\\lib\\site-packages\\sklearn\\linear_model\\_sag.py:328: ConvergenceWarning: The max_iter was reached which means the coef_ did not converge\n",
      "  warnings.warn(\"The max_iter was reached which means \"\n",
      "C:\\Users\\Eric Skrabak\\anaconda3\\lib\\site-packages\\sklearn\\linear_model\\_sag.py:328: ConvergenceWarning: The max_iter was reached which means the coef_ did not converge\n",
      "  warnings.warn(\"The max_iter was reached which means \"\n",
      "C:\\Users\\Eric Skrabak\\anaconda3\\lib\\site-packages\\sklearn\\linear_model\\_sag.py:328: ConvergenceWarning: The max_iter was reached which means the coef_ did not converge\n",
      "  warnings.warn(\"The max_iter was reached which means \"\n",
      "C:\\Users\\Eric Skrabak\\anaconda3\\lib\\site-packages\\sklearn\\linear_model\\_sag.py:328: ConvergenceWarning: The max_iter was reached which means the coef_ did not converge\n",
      "  warnings.warn(\"The max_iter was reached which means \"\n",
      "C:\\Users\\Eric Skrabak\\anaconda3\\lib\\site-packages\\sklearn\\linear_model\\_sag.py:328: ConvergenceWarning: The max_iter was reached which means the coef_ did not converge\n",
      "  warnings.warn(\"The max_iter was reached which means \"\n",
      "C:\\Users\\Eric Skrabak\\anaconda3\\lib\\site-packages\\sklearn\\linear_model\\_sag.py:328: ConvergenceWarning: The max_iter was reached which means the coef_ did not converge\n",
      "  warnings.warn(\"The max_iter was reached which means \"\n",
      "C:\\Users\\Eric Skrabak\\anaconda3\\lib\\site-packages\\sklearn\\linear_model\\_sag.py:328: ConvergenceWarning: The max_iter was reached which means the coef_ did not converge\n",
      "  warnings.warn(\"The max_iter was reached which means \"\n",
      "C:\\Users\\Eric Skrabak\\anaconda3\\lib\\site-packages\\sklearn\\linear_model\\_sag.py:328: ConvergenceWarning: The max_iter was reached which means the coef_ did not converge\n",
      "  warnings.warn(\"The max_iter was reached which means \"\n",
      "C:\\Users\\Eric Skrabak\\anaconda3\\lib\\site-packages\\sklearn\\linear_model\\_sag.py:328: ConvergenceWarning: The max_iter was reached which means the coef_ did not converge\n",
      "  warnings.warn(\"The max_iter was reached which means \"\n",
      "C:\\Users\\Eric Skrabak\\anaconda3\\lib\\site-packages\\sklearn\\linear_model\\_sag.py:328: ConvergenceWarning: The max_iter was reached which means the coef_ did not converge\n",
      "  warnings.warn(\"The max_iter was reached which means \"\n",
      "C:\\Users\\Eric Skrabak\\anaconda3\\lib\\site-packages\\sklearn\\linear_model\\_sag.py:328: ConvergenceWarning: The max_iter was reached which means the coef_ did not converge\n",
      "  warnings.warn(\"The max_iter was reached which means \"\n",
      "C:\\Users\\Eric Skrabak\\anaconda3\\lib\\site-packages\\sklearn\\linear_model\\_sag.py:328: ConvergenceWarning: The max_iter was reached which means the coef_ did not converge\n",
      "  warnings.warn(\"The max_iter was reached which means \"\n",
      "C:\\Users\\Eric Skrabak\\anaconda3\\lib\\site-packages\\sklearn\\linear_model\\_sag.py:328: ConvergenceWarning: The max_iter was reached which means the coef_ did not converge\n",
      "  warnings.warn(\"The max_iter was reached which means \"\n",
      "C:\\Users\\Eric Skrabak\\anaconda3\\lib\\site-packages\\sklearn\\linear_model\\_sag.py:328: ConvergenceWarning: The max_iter was reached which means the coef_ did not converge\n",
      "  warnings.warn(\"The max_iter was reached which means \"\n",
      "C:\\Users\\Eric Skrabak\\anaconda3\\lib\\site-packages\\sklearn\\linear_model\\_sag.py:328: ConvergenceWarning: The max_iter was reached which means the coef_ did not converge\n",
      "  warnings.warn(\"The max_iter was reached which means \"\n",
      "C:\\Users\\Eric Skrabak\\anaconda3\\lib\\site-packages\\sklearn\\linear_model\\_sag.py:328: ConvergenceWarning: The max_iter was reached which means the coef_ did not converge\n",
      "  warnings.warn(\"The max_iter was reached which means \"\n",
      "C:\\Users\\Eric Skrabak\\anaconda3\\lib\\site-packages\\sklearn\\linear_model\\_sag.py:328: ConvergenceWarning: The max_iter was reached which means the coef_ did not converge\n",
      "  warnings.warn(\"The max_iter was reached which means \"\n",
      "C:\\Users\\Eric Skrabak\\anaconda3\\lib\\site-packages\\sklearn\\linear_model\\_sag.py:328: ConvergenceWarning: The max_iter was reached which means the coef_ did not converge\n",
      "  warnings.warn(\"The max_iter was reached which means \"\n",
      "C:\\Users\\Eric Skrabak\\anaconda3\\lib\\site-packages\\sklearn\\linear_model\\_sag.py:328: ConvergenceWarning: The max_iter was reached which means the coef_ did not converge\n",
      "  warnings.warn(\"The max_iter was reached which means \"\n",
      "C:\\Users\\Eric Skrabak\\anaconda3\\lib\\site-packages\\sklearn\\linear_model\\_sag.py:328: ConvergenceWarning: The max_iter was reached which means the coef_ did not converge\n",
      "  warnings.warn(\"The max_iter was reached which means \"\n",
      "C:\\Users\\Eric Skrabak\\anaconda3\\lib\\site-packages\\sklearn\\linear_model\\_sag.py:328: ConvergenceWarning: The max_iter was reached which means the coef_ did not converge\n",
      "  warnings.warn(\"The max_iter was reached which means \"\n",
      "C:\\Users\\Eric Skrabak\\anaconda3\\lib\\site-packages\\sklearn\\linear_model\\_sag.py:328: ConvergenceWarning: The max_iter was reached which means the coef_ did not converge\n",
      "  warnings.warn(\"The max_iter was reached which means \"\n",
      "C:\\Users\\Eric Skrabak\\anaconda3\\lib\\site-packages\\sklearn\\linear_model\\_sag.py:328: ConvergenceWarning: The max_iter was reached which means the coef_ did not converge\n",
      "  warnings.warn(\"The max_iter was reached which means \"\n",
      "C:\\Users\\Eric Skrabak\\anaconda3\\lib\\site-packages\\sklearn\\linear_model\\_sag.py:328: ConvergenceWarning: The max_iter was reached which means the coef_ did not converge\n",
      "  warnings.warn(\"The max_iter was reached which means \"\n",
      "C:\\Users\\Eric Skrabak\\anaconda3\\lib\\site-packages\\sklearn\\linear_model\\_sag.py:328: ConvergenceWarning: The max_iter was reached which means the coef_ did not converge\n",
      "  warnings.warn(\"The max_iter was reached which means \"\n",
      "C:\\Users\\Eric Skrabak\\anaconda3\\lib\\site-packages\\sklearn\\linear_model\\_sag.py:328: ConvergenceWarning: The max_iter was reached which means the coef_ did not converge\n",
      "  warnings.warn(\"The max_iter was reached which means \"\n",
      "C:\\Users\\Eric Skrabak\\anaconda3\\lib\\site-packages\\sklearn\\linear_model\\_sag.py:328: ConvergenceWarning: The max_iter was reached which means the coef_ did not converge\n",
      "  warnings.warn(\"The max_iter was reached which means \"\n",
      "C:\\Users\\Eric Skrabak\\anaconda3\\lib\\site-packages\\sklearn\\linear_model\\_sag.py:328: ConvergenceWarning: The max_iter was reached which means the coef_ did not converge\n",
      "  warnings.warn(\"The max_iter was reached which means \"\n",
      "C:\\Users\\Eric Skrabak\\anaconda3\\lib\\site-packages\\sklearn\\linear_model\\_sag.py:328: ConvergenceWarning: The max_iter was reached which means the coef_ did not converge\n",
      "  warnings.warn(\"The max_iter was reached which means \"\n",
      "C:\\Users\\Eric Skrabak\\anaconda3\\lib\\site-packages\\sklearn\\linear_model\\_sag.py:328: ConvergenceWarning: The max_iter was reached which means the coef_ did not converge\n",
      "  warnings.warn(\"The max_iter was reached which means \"\n",
      "C:\\Users\\Eric Skrabak\\anaconda3\\lib\\site-packages\\sklearn\\linear_model\\_sag.py:328: ConvergenceWarning: The max_iter was reached which means the coef_ did not converge\n",
      "  warnings.warn(\"The max_iter was reached which means \"\n",
      "C:\\Users\\Eric Skrabak\\anaconda3\\lib\\site-packages\\sklearn\\linear_model\\_sag.py:328: ConvergenceWarning: The max_iter was reached which means the coef_ did not converge\n",
      "  warnings.warn(\"The max_iter was reached which means \"\n",
      "C:\\Users\\Eric Skrabak\\anaconda3\\lib\\site-packages\\sklearn\\linear_model\\_sag.py:328: ConvergenceWarning: The max_iter was reached which means the coef_ did not converge\n",
      "  warnings.warn(\"The max_iter was reached which means \"\n",
      "C:\\Users\\Eric Skrabak\\anaconda3\\lib\\site-packages\\sklearn\\linear_model\\_sag.py:328: ConvergenceWarning: The max_iter was reached which means the coef_ did not converge\n",
      "  warnings.warn(\"The max_iter was reached which means \"\n",
      "C:\\Users\\Eric Skrabak\\anaconda3\\lib\\site-packages\\sklearn\\linear_model\\_sag.py:328: ConvergenceWarning: The max_iter was reached which means the coef_ did not converge\n",
      "  warnings.warn(\"The max_iter was reached which means \"\n"
     ]
    },
    {
     "name": "stderr",
     "output_type": "stream",
     "text": [
      "C:\\Users\\Eric Skrabak\\anaconda3\\lib\\site-packages\\sklearn\\linear_model\\_sag.py:328: ConvergenceWarning: The max_iter was reached which means the coef_ did not converge\n",
      "  warnings.warn(\"The max_iter was reached which means \"\n",
      "C:\\Users\\Eric Skrabak\\anaconda3\\lib\\site-packages\\sklearn\\linear_model\\_sag.py:328: ConvergenceWarning: The max_iter was reached which means the coef_ did not converge\n",
      "  warnings.warn(\"The max_iter was reached which means \"\n"
     ]
    }
   ],
   "source": [
    "C = [0.1,1,10,100,1000,10000]\n",
    "lr_result = []\n",
    "svm_result = []\n",
    "for i in C:\n",
    "    #Create the classifier of Logistic Regression Model\n",
    "    #multi_class='ovr' should be used in  multinomial logistic regression\n",
    "    lr_classifier = LogisticRegression(C=i,multi_class='ovr', solver='sag')\n",
    "    #Create the classifier of Support vector Model\n",
    "    svm_classifier = svm.SVC(C=i, kernel='rbf', decision_function_shape='ovr', gamma=0.01)\n",
    "    \n",
    "    lr_avg_score = select_c_function(X_train,Y_train,lr_classifier)\n",
    "    svm_avg_score = select_c_function(X_train,Y_train,svm_classifier)\n",
    "    \n",
    "    lr_result.append(lr_avg_score)\n",
    "    svm_result.append(svm_avg_score)\n",
    "    "
   ]
  },
  {
   "cell_type": "code",
   "execution_count": 43,
   "metadata": {
    "scrolled": true
   },
   "outputs": [
    {
     "name": "stdout",
     "output_type": "stream",
     "text": [
      "\t\t\tLogistic Regression Model\t\t\n",
      "When C parameter is 0.1，the score of model is 0.9344615384615385\n",
      "When C parameter is 1，the score of model is 0.9538461538461538\n",
      "When C parameter is 10，the score of model is 0.9653846153846153\n",
      "When C parameter is 100，the score of model is 0.9730769230769232\n",
      "When C parameter is 1000，the score of model is 0.9730769230769232\n",
      "When C parameter is 10000，the score of model is 0.9730769230769232\n",
      "\n",
      "\t\t\tSupport Vector Model\t\t\n",
      "When C parameter is 0.1，the score of model is 0.6101538461538462\n",
      "When C parameter is 1，the score of model is 0.9652307692307694\n",
      "When C parameter is 10，the score of model is 0.9767692307692307\n",
      "When C parameter is 100，the score of model is 0.9807692307692308\n",
      "When C parameter is 1000，the score of model is 0.9961538461538462\n",
      "When C parameter is 10000，the score of model is 0.9961538461538462\n",
      "\n"
     ]
    }
   ],
   "source": [
    "#Display the results of different value of C parameter and find the best one#\n",
    "\n",
    "#Logistic Regression Model\n",
    "print(\"\\t\\t\\tLogistic Regression Model\\t\\t\")\n",
    "for i in range(len(C)):\n",
    "    print('When C parameter is {}，the score of model is {}'.format(C[i], lr_result[i]))\n",
    "\n",
    "print('')\n",
    "#Support Vector Model\n",
    "print(\"\\t\\t\\tSupport Vector Model\\t\\t\")\n",
    "for i in range(len(C)):\n",
    "    print('When C parameter is {}，the score of model is {}'.format(C[i], svm_result[i]))\n",
    "\n",
    "print('')"
   ]
  },
  {
   "cell_type": "markdown",
   "metadata": {},
   "source": [
    "*We tried to change testX into different combination of predictors and observed the best C. We found that when C = 1, both the Multinomial Logistic Regression model and Support Vector Machine model performed the best.*"
   ]
  },
  {
   "cell_type": "code",
   "execution_count": 65,
   "metadata": {
    "scrolled": true
   },
   "outputs": [
    {
     "data": {
      "text/plain": [
       "[Text(0.5, 1.0, 'Best Depth')]"
      ]
     },
     "execution_count": 65,
     "metadata": {},
     "output_type": "execute_result"
    },
    {
     "data": {
      "image/png": "[encoded data removed]",
      "text/plain": [
       "<Figure size 432x288 with 1 Axes>"
      ]
     },
     "metadata": {
      "needs_background": "light"
     },
     "output_type": "display_data"
    }
   ],
   "source": [
    "#Find the best-depth of tree model#\n",
    "\n",
    "\"\"\"\n",
    "\n",
    "Hpyerparameter Max_depth:\n",
    "that governs how many layers of decisions the tree is allowed to make. \n",
    "Larger max_depth values correspond to more complicated trees. \n",
    "In this way, max_depth is a model complexity parameter, \n",
    "similar to the degree when we did polynomial regression.\n",
    "\n",
    "\"\"\"\n",
    "tree_classifier = DecisionTreeClassifier()\n",
    "best_score=-np.inf\n",
    "N=30 #largest max depth\n",
    "scores=np.zeros(N)\n",
    "#to find the best depth\n",
    "for d in range(1,N+1):\n",
    "    T=DecisionTreeClassifier(max_depth=d)\n",
    "    #score the trees of each depth\n",
    "    scores[d-1]=cross_val_score(T,X_train,Y_train,cv=5).mean()\n",
    "    #if the new score is better than the previous ones, record the new best score and depth\n",
    "    if scores[d-1]>best_score:\n",
    "        best_depth=d\n",
    "        best_score=scores[d-1]\n",
    "\n",
    "fig,ax=plt.subplots(1)\n",
    "ax.scatter(np.arange(1,N+1),scores)\n",
    "ax.set(title=\"Best Depth\")"
   ]
  },
  {
   "cell_type": "markdown",
   "metadata": {},
   "source": [
    "*As shown in the graph above, a tree with a depth of 3 performed the best, meaning we had to find the best 3 combination of predictor variables to use in our models.*"
   ]
  },
  {
   "cell_type": "markdown",
   "metadata": {},
   "source": [
    "## Find the 3 best predictors"
   ]
  },
  {
   "cell_type": "code",
   "execution_count": 70,
   "metadata": {
    "scrolled": true
   },
   "outputs": [],
   "source": [
    "#find the all combinations of the cols\n",
    "col = combinations(['Island','Culmen Length (mm)','Culmen Depth (mm)','Flipper Length (mm)','Body Mass (g)', 'Delta 13 C (o/oo)'],3)\n",
    "a = list(col)\n",
    "s = []\n",
    "\n",
    "for item in a:\n",
    "    s.append(list(item))"
   ]
  },
  {
   "cell_type": "code",
   "execution_count": 58,
   "metadata": {},
   "outputs": [],
   "source": [
    "\n",
    "def bestval_search(X,Y,val_group,modeltype):\n",
    "    \"\"\"\n",
    "    This function is to find the best combination under each model.\n",
    "    X,Y: the input train data \n",
    "    val_group: All the combinations of columns\n",
    "    model type: the type of the model we selected\n",
    "    \"\"\"\n",
    "    best_val = None\n",
    "    best_score = 0.0\n",
    "    classifier = None\n",
    "    for item in s: #for each combination of predictor variables\n",
    "        val_group = \"'{}','{}','{}'\".format(item[0],item[1],item[2])\n",
    "        penguins_data_X = X_train[item].values #get the data with each combination\n",
    "        penguins_data_Y = Y_train\n",
    "        \n",
    "        if modeltype == 'Support Vector':\n",
    "            Classifier = svm.SVC(C=1.0, kernel='rbf', decision_function_shape='ovr', gamma=0.01)\n",
    "        elif modeltype == 'Logistic':\n",
    "            Classifier = LogisticRegression(multi_class='ovr', solver='sag',C = 1)\n",
    "        elif modeltype == 'Decision Tree':\n",
    "             Classifier = DecisionTreeClassifier(max_depth = 3)\n",
    "        else:\n",
    "            break\n",
    "        #fit and score the data\n",
    "        Classifier.fit(penguins_data_X, penguins_data_Y)\n",
    "        ac_score = cross_val_score( Classifier,penguins_data_X, penguins_data_Y,cv=10).mean()\n",
    "        if ac_score > best_score: #if the new score is an improvement, update best score and val\n",
    "            best_score = ac_score\n",
    "            best_val = val_group\n",
    "            classifier =  Classifier\n",
    "        return list(eval(best_val)),best_score,classifier\n"
   ]
  },
  {
   "cell_type": "code",
   "execution_count": 62,
   "metadata": {},
   "outputs": [],
   "source": [
    "def bestval_test(best_val,X,Y,classifier):\n",
    "    \"\"\"\n",
    "    This function is to score the model by test data.\n",
    "    Best_val:   the combination of columns that performs best in training process\n",
    "    X,Y:        Test data\n",
    "    Classifier: Classifier of models\n",
    "    \"\"\"\n",
    "    X_test = X[best_val].values\n",
    "    Y_test = Y\n",
    "\n",
    "    Y_pred = classifier.predict(X_test) \n",
    "    best_pre_score = accuracy_score(Y_test,Y_pred)\n",
    "    \n",
    "    return best_pre_score\n"
   ]
  },
  {
   "cell_type": "code",
   "execution_count": 63,
   "metadata": {
    "scrolled": true
   },
   "outputs": [
    {
     "name": "stderr",
     "output_type": "stream",
     "text": [
      "<ipython-input-58-66ce6dd7ff3f>:14: FutureWarning: Using a non-tuple sequence for multidimensional indexing is deprecated; use `arr[tuple(seq)]` instead of `arr[seq]`. In the future this will be interpreted as an array index, `arr[np.array(seq)]`, which will result either in an error or a different result.\n",
      "  penguins_data_X = X_train[item].values\n"
     ]
    },
    {
     "ename": "IndexError",
     "evalue": "only integers, slices (`:`), ellipsis (`...`), numpy.newaxis (`None`) and integer or boolean arrays are valid indices",
     "output_type": "error",
     "traceback": [
      "\u001b[1;31m---------------------------------------------------------------------------\u001b[0m",
      "\u001b[1;31mIndexError\u001b[0m                                Traceback (most recent call last)",
      "\u001b[1;32m<ipython-input-63-20d7f2b1f109>\u001b[0m in \u001b[0;36m<module>\u001b[1;34m\u001b[0m\n\u001b[0;32m      3\u001b[0m \u001b[0mresults\u001b[0m \u001b[1;33m=\u001b[0m \u001b[1;33m{\u001b[0m\u001b[1;33m}\u001b[0m\u001b[1;33m\u001b[0m\u001b[1;33m\u001b[0m\u001b[0m\n\u001b[0;32m      4\u001b[0m \u001b[1;32mfor\u001b[0m \u001b[0mmodel\u001b[0m \u001b[1;32min\u001b[0m \u001b[0mmodels\u001b[0m\u001b[1;33m:\u001b[0m\u001b[1;33m\u001b[0m\u001b[1;33m\u001b[0m\u001b[0m\n\u001b[1;32m----> 5\u001b[1;33m     \u001b[0mbest_val\u001b[0m\u001b[1;33m,\u001b[0m\u001b[0mbest_score\u001b[0m\u001b[1;33m,\u001b[0m\u001b[0mclassifier\u001b[0m \u001b[1;33m=\u001b[0m \u001b[0mbestval_search\u001b[0m\u001b[1;33m(\u001b[0m\u001b[0mX_train\u001b[0m\u001b[1;33m,\u001b[0m\u001b[0mY_train\u001b[0m\u001b[1;33m,\u001b[0m\u001b[0ms\u001b[0m\u001b[1;33m,\u001b[0m\u001b[0mmodel\u001b[0m\u001b[1;33m)\u001b[0m\u001b[1;33m\u001b[0m\u001b[1;33m\u001b[0m\u001b[0m\n\u001b[0m\u001b[0;32m      6\u001b[0m     \u001b[0mbest_pre_score\u001b[0m \u001b[1;33m=\u001b[0m \u001b[0mbestval_test\u001b[0m\u001b[1;33m(\u001b[0m\u001b[0mbest_val\u001b[0m\u001b[1;33m,\u001b[0m\u001b[0mX_test\u001b[0m\u001b[1;33m,\u001b[0m\u001b[0mY_test\u001b[0m\u001b[1;33m,\u001b[0m\u001b[0mclassifier\u001b[0m\u001b[1;33m)\u001b[0m\u001b[1;33m\u001b[0m\u001b[1;33m\u001b[0m\u001b[0m\n\u001b[0;32m      7\u001b[0m     \u001b[0mresults\u001b[0m\u001b[1;33m[\u001b[0m\u001b[0mmodel\u001b[0m\u001b[1;33m]\u001b[0m \u001b[1;33m=\u001b[0m \u001b[1;33m(\u001b[0m\u001b[0mbest_val\u001b[0m\u001b[1;33m,\u001b[0m\u001b[0mbest_score\u001b[0m\u001b[1;33m,\u001b[0m\u001b[0mbest_pre_score\u001b[0m\u001b[1;33m)\u001b[0m\u001b[1;33m\u001b[0m\u001b[1;33m\u001b[0m\u001b[0m\n",
      "\u001b[1;32m<ipython-input-58-66ce6dd7ff3f>\u001b[0m in \u001b[0;36mbestval_search\u001b[1;34m(X, Y, val_group, modeltype)\u001b[0m\n\u001b[0;32m     12\u001b[0m     \u001b[1;32mfor\u001b[0m \u001b[0mitem\u001b[0m \u001b[1;32min\u001b[0m \u001b[0ms\u001b[0m\u001b[1;33m:\u001b[0m\u001b[1;33m\u001b[0m\u001b[1;33m\u001b[0m\u001b[0m\n\u001b[0;32m     13\u001b[0m         \u001b[0mval_group\u001b[0m \u001b[1;33m=\u001b[0m \u001b[1;34m\"'{}','{}','{}'\"\u001b[0m\u001b[1;33m.\u001b[0m\u001b[0mformat\u001b[0m\u001b[1;33m(\u001b[0m \u001b[0mitem\u001b[0m\u001b[1;33m[\u001b[0m\u001b[1;36m0\u001b[0m\u001b[1;33m]\u001b[0m\u001b[1;33m,\u001b[0m\u001b[0mitem\u001b[0m\u001b[1;33m[\u001b[0m\u001b[1;36m1\u001b[0m\u001b[1;33m]\u001b[0m\u001b[1;33m,\u001b[0m\u001b[0mitem\u001b[0m\u001b[1;33m[\u001b[0m\u001b[1;36m2\u001b[0m\u001b[1;33m]\u001b[0m\u001b[1;33m)\u001b[0m\u001b[1;33m\u001b[0m\u001b[1;33m\u001b[0m\u001b[0m\n\u001b[1;32m---> 14\u001b[1;33m         \u001b[0mpenguins_data_X\u001b[0m \u001b[1;33m=\u001b[0m \u001b[0mX_train\u001b[0m\u001b[1;33m[\u001b[0m\u001b[0mitem\u001b[0m\u001b[1;33m]\u001b[0m\u001b[1;33m.\u001b[0m\u001b[0mvalues\u001b[0m\u001b[1;33m\u001b[0m\u001b[1;33m\u001b[0m\u001b[0m\n\u001b[0m\u001b[0;32m     15\u001b[0m         \u001b[0mpenguins_data_Y\u001b[0m \u001b[1;33m=\u001b[0m \u001b[0mY_train\u001b[0m\u001b[1;33m\u001b[0m\u001b[1;33m\u001b[0m\u001b[0m\n\u001b[0;32m     16\u001b[0m \u001b[1;33m\u001b[0m\u001b[0m\n",
      "\u001b[1;31mIndexError\u001b[0m: only integers, slices (`:`), ellipsis (`...`), numpy.newaxis (`None`) and integer or boolean arrays are valid indices"
     ]
    }
   ],
   "source": [
    "#Output the result\n",
    "models = ['Support Vector','Logistic','Decision Tree']\n",
    "results = {}\n",
    "for model in models:\n",
    "    best_val,best_score,classifier = bestval_search(X_train,Y_train,s,model)\n",
    "    best_pre_score = bestval_test(best_val,X_test,Y_test,classifier)\n",
    "    results[model] = (best_val,best_score,best_pre_score)"
   ]
  },
  {
   "cell_type": "code",
   "execution_count": 64,
   "metadata": {},
   "outputs": [],
   "source": [
    "#Display the result\n",
    "for key in results:\n",
    "    print(\"Model：{}\\nbest_combination：{}\\ntraining score：{}\\ntesting score：{}\".format(key,results[key][0],results[key][1],results[key][2]))\n",
    "    print('')"
   ]
  },
  {
   "cell_type": "markdown",
   "metadata": {},
   "source": [
    "# Discussion\n",
    "\n",
    "Reflect on your findings, as outlined in the project description."
   ]
  },
  {
   "cell_type": "markdown",
   "metadata": {},
   "source": [
    "*Overall, all of our models performed very well, all above 96%, which would suggest the predictor variables we used were good choices. If we were to reccomend a model, we would choose **Multinomial Logistic Regression** model with the predictor variables **Island**, **Culmen Length (mm)**, and **Culmen Depth**. We would choose the MLR model because the other models seemed to have slightly overfit. Considering the predictor variables we chose, our models likely had issues with **Chinstrap** penguins. As shown in the **Culmen Length (mm)** vs **Culmen Depth (mm)** graph, **Chinstrap** penguins fall in between **Adelie** and **Gentoo** for these variables, meaning an outlier **Chinstrap** could be mistaken as one of the other species or vice versa. When also considering the fact we used the **Island** predictor variable, and that only **Adelie** penguins appear on an island with another penguin, our models likely had confusion with **Adelie** and **Chinstrap** penguins. With more data, perhaps we would be able to better train our models to avoid the problem of overfitting and avoid the mistakes the models made. Using an imperfect model, with even just one mistake, could result in the disastorous death of an innocent penguin life. As Darwin noted centuries ago, the birds of the Galapagos Islands each adapted to life on their specfic islands, with different sizes, shapes, and beaks. Similarily, **Gentoo** and **Chinstrap** penguins are highly specialized for life on their specific islands, as shown in the noticeable difference in culmens and masses. If these models were used to seperate a large batch of penguins onto their suitable islands, a **Chinstrap** or **Gentoo** dropped in the wrong place could cause their death as they are not adapted to life on other islands. **Adelies** would likely be okay, thankfully, as they can be found on all three islands.*"
   ]
  },
  {
   "cell_type": "code",
   "execution_count": null,
   "metadata": {},
   "outputs": [],
   "source": []
  }
 ],
 "metadata": {
  "kernelspec": {
   "display_name": "Python 3",
   "language": "python",
   "name": "python3"
  },
  "language_info": {
   "codemirror_mode": {
    "name": "ipython",
    "version": 3
   },
   "file_extension": ".py",
   "mimetype": "text/x-python",
   "name": "python",
   "nbconvert_exporter": "python",
   "pygments_lexer": "ipython3",
   "version": "3.8.8"
  }
 },
 "nbformat": 4,
 "nbformat_minor": 4
}
